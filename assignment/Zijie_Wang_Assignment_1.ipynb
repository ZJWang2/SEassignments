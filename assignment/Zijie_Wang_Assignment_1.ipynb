{
 "cells": [
  {
   "cell_type": "code",
   "execution_count": 2,
   "id": "6a57074d",
   "metadata": {},
   "outputs": [
    {
     "name": "stdout",
     "output_type": "stream",
     "text": [
      "Hello World\n"
     ]
    }
   ],
   "source": [
    "def q2(): # print hello world\n",
    "    print(\"Hello World\")\n",
    "\n",
    "q2()"
   ]
  },
  {
   "cell_type": "code",
   "execution_count": 3,
   "id": "01f9884a",
   "metadata": {},
   "outputs": [
    {
     "name": "stdout",
     "output_type": "stream",
     "text": [
      "    1   2   3   4   5   6   7   8   9   10  11  12  \n",
      "1   1   2   3   4   5   6   7   8   9   10  11  12  \n",
      "2   2   4   6   8   10  12  14  16  18  20  22  24  \n",
      "3   3   6   9   12  15  18  21  24  27  30  33  36  \n",
      "4   4   8   12  16  20  24  28  32  36  40  44  48  \n",
      "5   5   10  15  20  25  30  35  40  45  50  55  60  \n",
      "6   6   12  18  24  30  36  42  48  54  60  66  72  \n",
      "7   7   14  21  28  35  42  49  56  63  70  77  84  \n",
      "8   8   16  24  32  40  48  56  64  72  80  88  96  \n",
      "9   9   18  27  36  45  54  63  72  81  90  99  108 \n",
      "10  10  20  30  40  50  60  70  80  90  100 110 120 \n",
      "11  11  22  33  44  55  66  77  88  99  110 121 132 \n",
      "12  12  24  36  48  60  72  84  96  108 120 132 144 \n"
     ]
    }
   ],
   "source": [
    "def q3(): # multiplication table\n",
    "    print('    ', end='')\n",
    "    for i in range(1, 13):\n",
    "        print(i, end='   ' if i<10 else '  ')\n",
    "    print()\n",
    "    for i in range(1, 13):\n",
    "        print(i, end='   ' if i<10 else '  ')\n",
    "        for j in range(1, 13):\n",
    "            if i*j < 10:\n",
    "                print(i*j, end='   ')\n",
    "            elif i*j < 100:\n",
    "                print(i*j, end='  ')\n",
    "            else:\n",
    "                print(i*j, end=' ')\n",
    "        print()\n",
    "\n",
    "q3()"
   ]
  },
  {
   "cell_type": "code",
   "execution_count": 4,
   "id": "8b2e297c",
   "metadata": {},
   "outputs": [
    {
     "name": "stdout",
     "output_type": "stream",
     "text": [
      "123321 12321 123322\n",
      "True True False\n"
     ]
    }
   ],
   "source": [
    "def q4(s):  # determine if it's palindrom\n",
    "    if len(s)<2:\n",
    "        return True\n",
    "    left, right = 0, len(s)-1\n",
    "    while left<right:\n",
    "        if s[left] != s[right]:\n",
    "            return False\n",
    "        left, right = left+1, right-1\n",
    "    return True\n",
    "\n",
    "print(\"123321\", \"12321\", \"123322\")\n",
    "print(q4(\"123321\"), q4(\"12321\"), q4(\"123322\"))"
   ]
  },
  {
   "cell_type": "code",
   "execution_count": 5,
   "id": "3d072675",
   "metadata": {},
   "outputs": [
    {
     "name": "stdout",
     "output_type": "stream",
     "text": [
      "First ['a', 'b', 'c']\n",
      "Second [1, 2, 3]\n",
      "Merge ['a', 1, 'b', 2, 'c', 3]\n"
     ]
    }
   ],
   "source": [
    "def q5(l1, l2): # merge\n",
    "    res = []\n",
    "    for i in range(len(l1)):\n",
    "        res += [l1[i], l2[i]]\n",
    "    return res\n",
    "\n",
    "print(\"First\", ['a', 'b', 'c'])\n",
    "print(\"Second\", [1,2,3])\n",
    "print(\"Merge\", q5(['a', 'b', 'c'], [1,2,3]))"
   ]
  },
  {
   "cell_type": "code",
   "execution_count": 6,
   "id": "f65919eb",
   "metadata": {},
   "outputs": [
    {
     "name": "stdout",
     "output_type": "stream",
     "text": [
      "{1: 1, 2: 1, 3: 2, 4: 3, 5: 5, 6: 8, 7: 13, 8: 21, 9: 34, 10: 55, 11: 89, 12: 144, 13: 233, 14: 377, 15: 610, 16: 987, 17: 1597, 18: 2584, 19: 4181, 20: 6765, 21: 10946, 22: 17711, 23: 28657, 24: 46368, 25: 75025, 26: 121393, 27: 196418, 28: 317811, 29: 514229, 30: 832040, 31: 1346269, 32: 2178309, 33: 3524578, 34: 5702887, 35: 9227465, 36: 14930352, 37: 24157817, 38: 39088169, 39: 63245986, 40: 102334155, 41: 165580141, 42: 267914296, 43: 433494437, 44: 701408733, 45: 1134903170, 46: 1836311903, 47: 2971215073, 48: 4807526976, 49: 7778742049, 50: 12586269025, 51: 20365011074, 52: 32951280099, 53: 53316291173, 54: 86267571272, 55: 139583862445, 56: 225851433717, 57: 365435296162, 58: 591286729879, 59: 956722026041, 60: 1548008755920, 61: 2504730781961, 62: 4052739537881, 63: 6557470319842, 64: 10610209857723, 65: 17167680177565, 66: 27777890035288, 67: 44945570212853, 68: 72723460248141, 69: 117669030460994, 70: 190392490709135, 71: 308061521170129, 72: 498454011879264, 73: 806515533049393, 74: 1304969544928657, 75: 2111485077978050, 76: 3416454622906707, 77: 5527939700884757, 78: 8944394323791464, 79: 14472334024676221, 80: 23416728348467685, 81: 37889062373143906, 82: 61305790721611591, 83: 99194853094755497, 84: 160500643816367088, 85: 259695496911122585, 86: 420196140727489673, 87: 679891637638612258, 88: 1100087778366101931, 89: 1779979416004714189, 90: 2880067194370816120, 91: 4660046610375530309, 92: 7540113804746346429, 93: 12200160415121876738, 94: 19740274219868223167, 95: 31940434634990099905, 96: 51680708854858323072, 97: 83621143489848422977, 98: 135301852344706746049, 99: 218922995834555169026, 100: 354224848179261915075}\n"
     ]
    }
   ],
   "source": [
    "def q6(n): # fibonacci sequence\n",
    "    fib = {i:-1 for i in range(1, n+1)}\n",
    "    fib[1], fib[2] =1, 1\n",
    "    for i in range(3, n+1):\n",
    "        fib[i] = fib[i-1]+fib[i-2]\n",
    "    return fib\n",
    "\n",
    "print(q6(100))"
   ]
  },
  {
   "cell_type": "code",
   "execution_count": 7,
   "id": "b06a46f7",
   "metadata": {},
   "outputs": [
    {
     "name": "stdout",
     "output_type": "stream",
     "text": [
      "Year 1900 False\n",
      "Year 2000 True\n",
      "Year 2003 False\n",
      "Year 2004 True\n"
     ]
    }
   ],
   "source": [
    "def q7(year): # determine if it's leap year\n",
    "    if year%100 == 0:\n",
    "        if year%400 == 0:\n",
    "            return True\n",
    "        else:\n",
    "            return False\n",
    "    else:\n",
    "        if year%4 == 0:\n",
    "            return True\n",
    "        else:\n",
    "            return False\n",
    "\n",
    "print(\"Year 1900\", q7(1900))\n",
    "print(\"Year 2000\", q7(2000))\n",
    "print(\"Year 2003\", q7(2003))\n",
    "print(\"Year 2004\", q7(2004))"
   ]
  },
  {
   "cell_type": "code",
   "execution_count": null,
   "id": "ccfd3c42",
   "metadata": {},
   "outputs": [],
   "source": []
  }
 ],
 "metadata": {
  "kernelspec": {
   "display_name": "Python 3 (ipykernel)",
   "language": "python",
   "name": "python3"
  },
  "language_info": {
   "codemirror_mode": {
    "name": "ipython",
    "version": 3
   },
   "file_extension": ".py",
   "mimetype": "text/x-python",
   "name": "python",
   "nbconvert_exporter": "python",
   "pygments_lexer": "ipython3",
   "version": "3.9.13"
  }
 },
 "nbformat": 4,
 "nbformat_minor": 5
}
